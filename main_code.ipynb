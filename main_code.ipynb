{
 "cells": [
  {
   "cell_type": "code",
   "execution_count": 10,
   "metadata": {},
   "outputs": [],
   "source": [
    "# Importing the necessary packages.\n",
    "import joblib\n",
    "import cv2"
   ]
  },
  {
   "cell_type": "code",
   "execution_count": 11,
   "metadata": {},
   "outputs": [],
   "source": [
    "# Loading the position list from the saved model.\n",
    "poslist=joblib.load(r'C:\\Users\\Gireesh\\Desktop\\Project DL-ParkingSpaceDetection\\positionlist.sav')"
   ]
  },
  {
   "cell_type": "code",
   "execution_count": 12,
   "metadata": {},
   "outputs": [],
   "source": [
    "# Copying down the length and the width of the rectangles.\n",
    "length_rect=157-50\n",
    "width_rect=141-97"
   ]
  },
  {
   "cell_type": "code",
   "execution_count": 13,
   "metadata": {},
   "outputs": [
    {
     "ename": "TypeError",
     "evalue": "VideoWriter_fourcc() missing required argument 'c4' (pos 4)",
     "output_type": "error",
     "traceback": [
      "\u001b[1;31m---------------------------------------------------------------------------\u001b[0m",
      "\u001b[1;31mTypeError\u001b[0m                                 Traceback (most recent call last)",
      "Cell \u001b[1;32mIn[13], line 3\u001b[0m\n\u001b[0;32m      1\u001b[0m \u001b[38;5;66;03m# Reading video\u001b[39;00m\n\u001b[0;32m      2\u001b[0m video\u001b[38;5;241m=\u001b[39mcv2\u001b[38;5;241m.\u001b[39mVideoCapture(\u001b[38;5;124mr\u001b[39m\u001b[38;5;124m'\u001b[39m\u001b[38;5;124mC:\u001b[39m\u001b[38;5;124m\\\u001b[39m\u001b[38;5;124mUsers\u001b[39m\u001b[38;5;124m\\\u001b[39m\u001b[38;5;124mGireesh\u001b[39m\u001b[38;5;124m\\\u001b[39m\u001b[38;5;124mDesktop\u001b[39m\u001b[38;5;124m\\\u001b[39m\u001b[38;5;124mProject DL-ParkingSpaceDetection\u001b[39m\u001b[38;5;124m\\\u001b[39m\u001b[38;5;124mparkinglot.mp4\u001b[39m\u001b[38;5;124m'\u001b[39m)\n\u001b[1;32m----> 3\u001b[0m capture\u001b[38;5;241m=\u001b[39mcv2\u001b[38;5;241m.\u001b[39mVideoWriter(\u001b[38;5;124m'\u001b[39m\u001b[38;5;124moutput.mp4\u001b[39m\u001b[38;5;124m'\u001b[39m,\u001b[43mcv2\u001b[49m\u001b[38;5;241;43m.\u001b[39;49m\u001b[43mVideoWriter_fourcc\u001b[49m\u001b[43m(\u001b[49m\u001b[38;5;241;43m*\u001b[39;49m\u001b[38;5;124;43m'\u001b[39;49m\u001b[38;5;124;43mmp4\u001b[39;49m\u001b[38;5;124;43m'\u001b[39;49m\u001b[43m)\u001b[49m,\u001b[38;5;241m20.0\u001b[39m,(\u001b[38;5;241m1100\u001b[39m,\u001b[38;5;241m720\u001b[39m),\u001b[38;5;28;01mTrue\u001b[39;00m)\n",
      "\u001b[1;31mTypeError\u001b[0m: VideoWriter_fourcc() missing required argument 'c4' (pos 4)"
     ]
    }
   ],
   "source": [
    "# Reading video\n",
    "video=cv2.VideoCapture(r'C:\\Users\\Gireesh\\Desktop\\Project DL-ParkingSpaceDetection\\parkinglot.mp4')\n",
    "capture=cv2.VideoWriter(\"out.mp4\", cv2.VideoWriter_fourcc(*'avc1'), 20.0, (1100,720))"
   ]
  },
  {
   "cell_type": "code",
   "execution_count": 7,
   "metadata": {},
   "outputs": [],
   "source": [
    "# Creating a function for identifying parking spaces.\n",
    "def checkspace(img_binary):\n",
    "    number_lots=0\n",
    "    for pos in poslist:\n",
    "        x,y=pos\n",
    "        img_cropped=img_binary[y:y+width_rect,x:x+length_rect]\n",
    "        count=cv2.countNonZero(img_cropped)\n",
    "        #cv2.putText(frame,str(count),pos,cv2.FONT_HERSHEY_COMPLEX,0.5,(0,0,0),1)\n",
    "        if count<390:\n",
    "            cv2.rectangle(frame,pt1=pos,pt2=(pos[0]+length_rect,pos[1]+width_rect),color=(0,255,0),thickness=1)\n",
    "            number_lots+=1\n",
    "        else:\n",
    "            cv2.rectangle(frame,pt1=pos,pt2=(pos[0]+length_rect,pos[1]+width_rect),color=(0,0,255),thickness=1)\n",
    "    cv2.rectangle(frame,(475,40),(620,85),(0,255,0),cv2.FILLED)\n",
    "    cv2.rectangle(frame,pt1=(475,40),pt2=(620,85),color=(0,0,0),thickness=2)\n",
    "    cv2.putText(frame,\"Free:{0}/69\".format(number_lots),(490,70),cv2.FONT_HERSHEY_COMPLEX,0.6,(0,0,0),1)\n",
    "    "
   ]
  },
  {
   "cell_type": "code",
   "execution_count": 8,
   "metadata": {},
   "outputs": [],
   "source": [
    "# Finding the parking spaces from the video.\n",
    "while True:\n",
    "    if video.get(cv2.CAP_PROP_POS_FRAMES)==video.get(cv2.CAP_PROP_FRAME_COUNT):\n",
    "        video.set(cv2.CAP_PROP_POS_FRAMES,0)\n",
    "    suc,frame=video.read()\n",
    "    img_grey=cv2.cvtColor(frame,cv2.COLOR_BGR2GRAY)\n",
    "    img_binary=cv2.Canny(img_grey,100,200)\n",
    "    checkspace(img_binary)\n",
    "    cv2.imshow(\"Image\",frame)\n",
    "    capture.\n",
    "    cv2.waitKey(10)\n",
    "    if cv2.waitKey(1) & 0XFF==ord(\"q\"):\n",
    "        break\n",
    "cv2.destroyAllWindows()\n",
    "    "
   ]
  }
 ],
 "metadata": {
  "kernelspec": {
   "display_name": "Python 3",
   "language": "python",
   "name": "python3"
  },
  "language_info": {
   "codemirror_mode": {
    "name": "ipython",
    "version": 3
   },
   "file_extension": ".py",
   "mimetype": "text/x-python",
   "name": "python",
   "nbconvert_exporter": "python",
   "pygments_lexer": "ipython3",
   "version": "3.12.4"
  },
  "orig_nbformat": 4
 },
 "nbformat": 4,
 "nbformat_minor": 2
}
